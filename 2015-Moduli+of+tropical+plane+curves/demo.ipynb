{
 "cells": [
  {
   "cell_type": "markdown",
   "metadata": {},
   "source": [
    "# Demo for genus 3\n",
    "\n",
    "Demo for [this presentation](http://page.math.tu-berlin.de/~joswig/presentations/Joswig-DMG-201209.pdf).",
    "\n",	
    "The setup defines many global variables."
   ]
  },
  {
   "cell_type": "code",
   "execution_count": 1,
   "metadata": {},
   "outputs": [],
   "source": [
    "script \"g3/setup.pl\";"
   ]
  },
  {
   "cell_type": "markdown",
   "metadata": {},
   "source": [
    "For instance, the genus."
   ]
  },
  {
   "cell_type": "code",
   "execution_count": 2,
   "metadata": {},
   "outputs": [
    {
     "data": {
      "text/plain": [
       "3"
      ]
     },
     "execution_count": 2,
     "metadata": {},
     "output_type": "execute_result"
    }
   ],
   "source": [
    "print $genus;"
   ]
  },
  {
   "cell_type": "markdown",
   "metadata": {},
   "source": [
    "The point configuration is fixed.  These are the 15 lattice points of T4.  Later on we will use their indices; hence that particular ordering will be kept throughout."
   ]
  },
  {
   "cell_type": "code",
   "execution_count": 3,
   "metadata": {},
   "outputs": [
    {
     "data": {
      "text/plain": [
       "0:1 0 0\n",
       "1:1 1 0\n",
       "2:1 0 1\n",
       "3:1 2 0\n",
       "4:1 1 1\n",
       "5:1 0 2\n",
       "6:1 3 0\n",
       "7:1 2 1\n",
       "8:1 1 2\n",
       "9:1 0 3\n",
       "10:1 4 0\n",
       "11:1 3 1\n",
       "12:1 2 2\n",
       "13:1 1 3\n",
       "14:1 0 4\n"
      ]
     },
     "execution_count": 3,
     "metadata": {},
     "output_type": "execute_result"
    }
   ],
   "source": [
    "print rows_labeled($points);"
   ]
  },
  {
   "cell_type": "markdown",
   "metadata": {},
   "source": [
    "The first part of the computation comes from TOPCOM.  This is where the output resides."
   ]
  },
  {
   "cell_type": "code",
   "execution_count": 4,
   "metadata": {},
   "outputs": [
    {
     "data": {
      "text/plain": [
       "g3/preprocessing/g3TriangulationsData/g3FineRegularAffine.txt"
      ]
     },
     "execution_count": 4,
     "metadata": {},
     "output_type": "execute_result"
    }
   ],
   "source": [
    "print $triangulations_file;"
   ]
  },
  {
   "cell_type": "markdown",
   "metadata": {},
   "source": [
    "Here is an example how to read all 1278 regular and unimodular triangulations of T4 (up to symmetry) into one perl array."
   ]
  },
  {
   "cell_type": "code",
   "execution_count": 5,
   "metadata": {},
   "outputs": [],
   "source": [
    "@T=();\n",
    "open (TOPCOM, \"<:encoding(UTF-8)\", \"$triangulations_file\");\n",
    "foreach (<TOPCOM>) { chomp; push @T, new Array<Set>(eval($_)); }\n",
    "close TOPCOM;"
   ]
  },
  {
   "cell_type": "markdown",
   "metadata": {},
   "source": [
    "These triangulations are referenced by their index, which is the line number in the TOPCOM output, starting at zero.  For the rest we will look at the triangulation which happens to come first."
   ]
  },
  {
   "cell_type": "code",
   "execution_count": 6,
   "metadata": {},
   "outputs": [
    {
     "data": {
      "text/plain": [
       "1278\n",
       "{0 1 2}\n",
       "{1 2 3}\n",
       "{2 3 4}\n",
       "{2 4 5}\n",
       "{3 4 6}\n",
       "{4 5 6}\n",
       "{5 6 7}\n",
       "{5 7 8}\n",
       "{5 8 9}\n",
       "{6 7 10}\n",
       "{7 8 10}\n",
       "{8 9 10}\n",
       "{9 10 11}\n",
       "{9 11 12}\n",
       "{9 12 13}\n",
       "{9 13 14}\n"
      ]
     },
     "execution_count": 6,
     "metadata": {},
     "output_type": "execute_result"
    }
   ],
   "source": [
    "print scalar(@T), \"\\n\", $T[0];"
   ]
  },
  {
   "cell_type": "markdown",
   "metadata": {},
   "source": [
    "Our object of interest is the (closed) secondary cone of that unimodular triangulation."
   ]
  },
  {
   "cell_type": "code",
   "execution_count": 7,
   "metadata": {},
   "outputs": [],
   "source": [
    "$subdiv = new fan::SubdivisionOfPoints(POINTS=>$points,MAXIMAL_CELLS=>$T[0]);\n",
    "$sec = $subdiv->secondary_cone;        "
   ]
  },
  {
   "cell_type": "markdown",
   "metadata": {},
   "source": [
    "And these are the rays."
   ]
  },
  {
   "cell_type": "code",
   "execution_count": 8,
   "metadata": {},
   "outputs": [
    {
     "data": {
      "text/plain": [
       "0 0 0 1 1 1 2 2 2 2 3 3 3 3 3\n",
       "0 0 0 0 1 2 1 2 3 4 2 3 4 5 6\n",
       "0 0 0 0 0 0 0 1 2 3 2 3 4 5 6\n",
       "0 0 0 0 0 0 0 0 1 2 0 1 2 3 4\n",
       "0 0 0 0 0 0 0 0 0 0 0 1 2 3 4\n",
       "0 0 0 0 0 0 0 0 0 0 0 0 1 2 3\n",
       "0 0 0 0 0 0 0 0 0 0 0 0 0 1 2\n",
       "0 0 0 0 0 0 0 0 0 0 0 0 0 0 1\n",
       "0 0 0 0 0 0 0 0 0 1 0 1 2 3 4\n",
       "0 0 0 0 0 0 0 0 0 0 1 1 1 1 1\n",
       "0 0 0 0 0 1 0 1 2 3 1 2 3 4 5\n",
       "0 0 0 0 0 0 1 1 1 1 2 2 2 2 2\n"
      ]
     },
     "execution_count": 8,
     "metadata": {},
     "output_type": "execute_result"
    },
    {
     "data": {
      "text/html": [
       "<details><summary><pre style=\"display:inline\"><small>Click here for additional output</small></pre></summary>\n",
       "<pre>\n",
       "polymake: used package ppl\n",
       "  The Parma Polyhedra Library ([[wiki:external_software#PPL]]): A C++ library for convex polyhedra\n",
       "  and other numerical abstractions.\n",
       "  http://www.cs.unipr.it/ppl/\n",
       "\n",
       "</pre>\n",
       "</details>\n"
      ]
     },
     "metadata": {},
     "output_type": "display_data"
    }
   ],
   "source": [
    "print $sec->RAYS;"
   ]
  },
  {
   "cell_type": "markdown",
   "metadata": {},
   "source": [
    "It is not necessary to do this computation.  The data set contains that secondary cone as apolymake object, with a number of useful properties pre-computed.  No need to do this again. "
   ]
  },
  {
   "cell_type": "code",
   "execution_count": 9,
   "metadata": {},
   "outputs": [
    {
     "data": {
      "text/plain": [
       "12 15 "
      ]
     },
     "execution_count": 9,
     "metadata": {},
     "output_type": "execute_result"
    }
   ],
   "source": [
    "$sec0 = load(\"g3/secondary_fan/g3b0/g3b0-0.cone\");\n",
    "print $sec0->$_, \" \" for \"DIM\", \"AMBIENT_DIM\";"
   ]
  },
  {
   "cell_type": "markdown",
   "metadata": {},
   "source": [
    "That's a polymake `BigObject` of type `Cone` with rational coordinates.  It can be used like any other cone in polymake."
   ]
  },
  {
   "cell_type": "code",
   "execution_count": 10,
   "metadata": {},
   "outputs": [
    {
     "data": {
      "text/plain": [
       "Cone<Rational>"
      ]
     },
     "execution_count": 10,
     "metadata": {},
     "output_type": "execute_result"
    }
   ],
   "source": [
    "print $sec0->type->full_name;"
   ]
  },
  {
   "cell_type": "markdown",
   "metadata": {},
   "source": [
    "However, these cones contain additional information, which is stored as \"attachments\".  For instance, the secondary cone remembers the triangulation where it came from.  Redundant information like this is extremely important to follow the computational path or to spot any errors."
   ]
  },
  {
   "cell_type": "code",
   "execution_count": 11,
   "metadata": {},
   "outputs": [
    {
     "data": {
      "text/plain": [
       "{0 1 2}\n",
       "{1 2 3}\n",
       "{2 3 4}\n",
       "{2 4 5}\n",
       "{3 4 6}\n",
       "{4 5 6}\n",
       "{5 6 7}\n",
       "{5 7 8}\n",
       "{5 8 9}\n",
       "{6 7 10}\n",
       "{7 8 10}\n",
       "{8 9 10}\n",
       "{9 10 11}\n",
       "{9 11 12}\n",
       "{9 12 13}\n",
       "{9 13 14}\n"
      ]
     },
     "execution_count": 11,
     "metadata": {},
     "output_type": "execute_result"
    }
   ],
   "source": [
    "print $sec0->get_attachment(\"INDUCED_TRIANGULATION\");"
   ]
  },
  {
   "cell_type": "markdown",
   "metadata": {},
   "source": [
    "The main computation is to map each secondary cone via some linear map into the moduli space.  The image is the corresponding moduli cone.  The naming scheme is derived from the name of the secondary cone.  This makes it easy to find matching cones."
   ]
  },
  {
   "cell_type": "code",
   "execution_count": 12,
   "metadata": {},
   "outputs": [
    {
     "data": {
      "text/plain": [
       "5 6 "
      ]
     },
     "execution_count": 12,
     "metadata": {},
     "output_type": "execute_result"
    }
   ],
   "source": [
    "$mod0 = load(\"g3/secondary_fan/g3b0/moduli/g3b0-0-moduli.cone\");\n",
    "print $mod0->$_, \" \" for \"DIM\", \"AMBIENT_DIM\";"
   ]
  },
  {
   "cell_type": "markdown",
   "metadata": {},
   "source": [
    "Again the moduli cones have several attachments."
   ]
  },
  {
   "cell_type": "code",
   "execution_count": 13,
   "metadata": {},
   "outputs": [
    {
     "data": {
      "text/plain": [
       "GENUS POLYTOPE ID ZERO_ROW_IDX BUCKET"
      ]
     },
     "execution_count": 13,
     "metadata": {},
     "output_type": "execute_result"
    }
   ],
   "source": [
    "print join \" \", $mod0->list_attachments();"
   ]
  },
  {
   "cell_type": "markdown",
   "metadata": {},
   "source": [
    "For instance, a moduli cone knows its id (= id of its triangulation).  This way accidentally renaming files does not destroy important information.  This is another example of redundant information which is put in everywhere."
   ]
  },
  {
   "cell_type": "code",
   "execution_count": 14,
   "metadata": {
    "scrolled": true
   },
   "outputs": [
    {
     "data": {
      "text/plain": [
       "0"
      ]
     },
     "execution_count": 14,
     "metadata": {},
     "output_type": "execute_result"
    }
   ],
   "source": [
    "print $mod0->get_attachment(\"ID\");"
   ]
  },
  {
   "cell_type": "markdown",
   "metadata": {},
   "source": [
    "Geometrically relevant are the rays of the moduli cone."
   ]
  },
  {
   "cell_type": "code",
   "execution_count": 15,
   "metadata": {},
   "outputs": [
    {
     "data": {
      "text/plain": [
       "0 0 0 0 1 0\n",
       "0 0 1 1 0 0\n",
       "1 0 0 0 0 0\n",
       "1 1 1 0 0 0\n",
       "0 0 0 0 0 1\n"
      ]
     },
     "execution_count": 15,
     "metadata": {},
     "output_type": "execute_result"
    }
   ],
   "source": [
    "print $mod0->RAYS;"
   ]
  },
  {
   "cell_type": "markdown",
   "metadata": {},
   "source": [
    "Yet this does not reveal how the linear map from the secondary cone works.  To this end, let us look at how that moduli cone was \"born\".  The property `INPUT_RAYS` may have redundant generators (in contrast to `RAYS`).  here, e.g., you can see that the last two vectors are the same."
   ]
  },
  {
   "cell_type": "code",
   "execution_count": 16,
   "metadata": {},
   "outputs": [
    {
     "data": {
      "text/plain": [
       "0:0 0 0 0 1 0\n",
       "1:0 0 1 1 0 0\n",
       "2:1 0 0 0 0 0\n",
       "3:1 1 1 0 0 0\n",
       "4:0 0 0 0 0 1\n",
       "5:0 0 0 0 0 1\n"
      ]
     },
     "execution_count": 16,
     "metadata": {},
     "output_type": "execute_result"
    }
   ],
   "source": [
    "print rows_numbered($mod0->INPUT_RAYS);"
   ]
  },
  {
   "cell_type": "markdown",
   "metadata": {},
   "source": [
    "To understand the map from the secondary cone to its moduli cone, the attachment `ZERO_ROW_IDX` is important.  It tells which rays of the secondary cone are mapped to zero.  It is necessary to store this extra, as it is illegal to have zero vectors in `INPUT_RAYS`."
   ]
  },
  {
   "cell_type": "code",
   "execution_count": 17,
   "metadata": {},
   "outputs": [
    {
     "data": {
      "text/plain": [
       "0, 1, 4, 5, 6, 7"
      ]
     },
     "execution_count": 17,
     "metadata": {},
     "output_type": "execute_result"
    }
   ],
   "source": [
    "print $mod0->get_attachment(\"ZERO_ROW_IDX\");"
   ]
  },
  {
   "cell_type": "markdown",
   "metadata": {},
   "source": [
    "The secondary cone has a 3-dimensional lineality space, which allows for distinct choices of rays.  Hence, in order to define the map to the moduli space correctly, it is important to pick the rays consistently.  These are the `STANDARD_RAYS`, which again are stored as an attachment.  In this case they are made unique by (1) mapping the three vertices of T4 to zero and (2) picking the unique primitive vector in the one-dimensional subspace defined by a ray."
   ]
  },
  {
   "cell_type": "code",
   "execution_count": 18,
   "metadata": {},
   "outputs": [
    {
     "data": {
      "text/plain": [
       "0:1 0 0 0 0 0 0 0 0 0 0 0 0 0 0 0 0 0\n",
       "1:0 1 0 0 0 0 0 0 0 0 0 0 0 0 0 0 0 0\n",
       "2:0 0 0 0 0 0 1 0 0 0 0 0 0 0 0 0 0 0\n",
       "3:0 0 0 0 0 0 0 1 0 0 0 1 0 0 0 0 0 0\n",
       "4:0 0 0 0 0 0 0 0 0 0 0 0 0 0 1 0 0 0\n",
       "5:0 0 0 0 0 0 0 0 0 0 0 0 0 0 0 1 0 0\n",
       "6:0 0 0 0 0 0 0 0 0 0 0 0 0 0 0 0 1 0\n",
       "7:0 0 0 0 0 0 0 0 0 0 0 0 0 0 0 0 0 1\n",
       "8:0 0 0 0 0 0 0 0 1 0 0 0 2 1 0 0 0 0\n",
       "9:0 0 0 0 0 0 0 0 0 1 1 0 1 0 0 0 0 0\n",
       "10:0 0 1 0 1 1 0 0 0 0 0 0 0 0 0 0 0 0\n",
       "11:0 0 0 1 1 0 0 0 0 0 0 0 0 0 0 0 0 0\n"
      ]
     },
     "execution_count": 18,
     "metadata": {},
     "output_type": "execute_result"
    }
   ],
   "source": [
    "print rows_numbered($sec0->get_attachment(\"STANDARD_RAYS\"));"
   ]
  },
  {
   "cell_type": "markdown",
   "metadata": {},
   "source": [
    "This can then be used for computationally proving Theorem 5.1 of [BJMS2015]."
   ]
  },
  {
   "cell_type": "code",
   "execution_count": 19,
   "metadata": {},
   "outputs": [],
   "source": [
    "script \"g3/proofs.pl\";"
   ]
  },
  {
   "cell_type": "markdown",
   "metadata": {},
   "source": [
    "The proof proceeds bucket by bucket, and he we are checking the bucket of the triangulation with is 0."
   ]
  },
  {
   "cell_type": "code",
   "execution_count": 20,
   "metadata": {},
   "outputs": [
    {
     "data": {
      "text/plain": [
       "bucket 0 of size 225:\n",
       "unverified cones=0 out of 225 checked\n"
      ]
     },
     "execution_count": 20,
     "metadata": {},
     "output_type": "execute_result"
    }
   ],
   "source": [
    "check_bucket(0);"
   ]
  },
  {
   "cell_type": "markdown",
   "metadata": {},
   "source": [
    "This means that all cones satisfy the criterion the given inequalities (which were previously found by hand)."
   ]
  }
 ],
 "metadata": {
  "kernelspec": {
   "display_name": "polymake-4.2",
   "language": "polymake",
   "name": "polymake"
  },
  "language_info": {
   "codemirror_mode": "perl",
   "file_extension": ".pl",
   "mimetype": "text/x-polymake",
   "name": "polymake"
  }
 },
 "nbformat": 4,
 "nbformat_minor": 4
}
