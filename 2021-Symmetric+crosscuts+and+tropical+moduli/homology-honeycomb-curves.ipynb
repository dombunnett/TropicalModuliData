{
 "cells": [
  {
   "cell_type": "markdown",
   "metadata": {},
   "source": [
    "# Symmetric crosscuts and tropical moduli\n",
    "\n",
    "by [Dominic Bunnett](http://page.math.tu-berlin.de/~bunnett) and [Michael Joswig](http://page.math.tu-berlin.de/~joswig/)\n",
    "\n",
    "This is the software companion to the paper with the same name.  Its purpose is a computational proof for the following.\n",
    "\n",
    "**Theorem.**\n",
    "The stacky fan ${\\mathbb M}_{K_4}^{\\text{pl}}$ of tropical honeycomb curves has face vector $(7,18,25,21,8)$, and its link has trivial integral homology.\n",
    "\n",
    "The computation has been tested with [polymake](https://www.polymake.org), version 4.3 (of 15 Dec 2020).\n",
    "\n",
    "This computation is ad hoc, for this particular example.  Future versions of polymake will support a more sophisticated implementation of stacky fans.  We can measure the excution time for the entire notebook."
   ]
  },
  {
   "cell_type": "code",
   "execution_count": 1,
   "metadata": {},
   "outputs": [],
   "source": [
    "use Benchmark qw(:all);\n",
    "$t0 = Benchmark->new;"
   ]
  },
  {
   "cell_type": "code",
   "execution_count": 2,
   "metadata": {},
   "outputs": [],
   "source": [
    "application \"fan\";"
   ]
  },
  {
   "cell_type": "markdown",
   "metadata": {},
   "source": [
    "We are interested in (quartic) tropical curves of fixed genus $g=3$.  The moduli space is $6$-dimensional, corresponding to the six edges of a trivalent graph on four nodes.\n",
    "\n",
    "We pick labels $u,v,w,x,y,z$ for the edges and the corresponding standard basis vectors in ${\\mathbb R}^6$. "
   ]
  },
  {
   "cell_type": "code",
   "execution_count": 3,
   "metadata": {},
   "outputs": [],
   "source": [
    "($u, $v, $w, $x, $y, $z) = 0..5;\n",
    "$UnitMatrix = unit_matrix(6);\n",
    "($U, $V, $W, $X, $Y, $Z) = map { new Vector($UnitMatrix->[$_]) } (0..5);\n",
    "$Orthant=new Cone(RAYS=>$UnitMatrix);"
   ]
  },
  {
   "cell_type": "markdown",
   "metadata": {},
   "source": [
    "By Theorem 5.1 of [Brodsky et al. (2015)](https://link.springer.com/article/10.1186/s40687-014-0018-1) a complete graph $K_4$ arises from a smooth tropical quartic (also called *honeycomb curve*) if and only if its edge lengths satisfy the following linear inequalities; they cut out a polyhedral cone in the $6$-dimensional orthant of all $K_4$-curves."
   ]
  },
  {
   "cell_type": "code",
   "execution_count": 4,
   "metadata": {},
   "outputs": [
    {
     "data": {
      "text/plain": [
       "11 31 39 25 8"
      ]
     },
     "execution_count": 4,
     "metadata": {},
     "output_type": "execute_result"
    },
    {
     "data": {
      "text/html": [
       "<details><summary><pre style=\"display:inline\"><small>Click here for additional output</small></pre></summary>\n",
       "<pre>\n",
       "polymake: used package ppl\n",
       "  The Parma Polyhedra Library ([[wiki:external_software#PPL]]): A C++ library for convex polyhedra\n",
       "  and other numerical abstractions.\n",
       "  http://www.cs.unipr.it/ppl/\n",
       "\n",
       "</pre>\n",
       "</details>\n"
      ]
     },
     "metadata": {},
     "output_type": "display_data"
    }
   ],
   "source": [
    "$D_ineqs = new Matrix( [$U-$V, $V-$W, $W-$Y, $W-$Z, $V-$X] );\n",
    "$D_cone = new Cone(INEQUALITIES=>$D_ineqs/$UnitMatrix);\n",
    "\n",
    "print $D_cone->F_VECTOR;"
   ]
  },
  {
   "cell_type": "markdown",
   "metadata": {},
   "source": [
    "That cone is the fundamental domain $D$ constructed in Section 5.2 of the article.  It forms one sixth of the cone descibed in Theorem 5.1 of [Brodsky et al. (2015)](https://link.springer.com/article/10.1186/s40687-014-0018-1).  The next computation yields the volume of the link; the number $4/15$ in Table on p.18 of [Brodsky et al. (2015)](https://link.springer.com/article/10.1186/s40687-014-0018-1) arises as four times this value."
   ]
  },
  {
   "cell_type": "code",
   "execution_count": 5,
   "metadata": {},
   "outputs": [
    {
     "data": {
      "text/plain": [
       "1/15"
      ]
     },
     "execution_count": 5,
     "metadata": {},
     "output_type": "execute_result"
    }
   ],
   "source": [
    "$D_link = new Polytope($D_cone);\n",
    "print $D_link->VOLUME;"
   ]
  },
  {
   "cell_type": "markdown",
   "metadata": {},
   "source": [
    "The graph $K_4$ forms the skeleton of these tropical curves, and we are interested in the action of the symmetric group of degree four on the six edges."
   ]
  },
  {
   "cell_type": "code",
   "execution_count": 6,
   "metadata": {},
   "outputs": [
    {
     "data": {
      "text/plain": [
       "24"
      ]
     },
     "execution_count": 6,
     "metadata": {},
     "output_type": "execute_result"
    },
    {
     "data": {
      "text/html": [
       "<details><summary><pre style=\"display:inline\"><small>Click here for additional output</small></pre></summary>\n",
       "<pre>\n",
       "polymake: used package nauty\n",
       "  Computation of automorphism groups of graphs.\n",
       "  Copyright by Brendan McKay and Adolfo Piperno.\n",
       "  http://pallini.di.uniroma1.it/\n",
       "polymake: used package permlib\n",
       "  A callable C++ library for permutation computations. \n",
       "  Written by Thomas Rehn.\n",
       "  http://www.math.uni-rostock.de/~rehn/software/permlib.html \n",
       "\n",
       "</pre>\n",
       "</details>\n"
      ]
     },
     "metadata": {},
     "output_type": "display_data"
    }
   ],
   "source": [
    "$skeleton = new IncidenceMatrix([[$u,$v,$x],[$v,$w,$z],[$u,$w,$y],[$x,$y,$z]]);\n",
    "$group = group::automorphism_group($skeleton,0);\n",
    "\n",
    "print $group->ORDER;"
   ]
  },
  {
   "cell_type": "markdown",
   "metadata": {},
   "source": [
    "Now we produce code which works for any cone which is properly refined by the braid arrangement.\n",
    "\n",
    "Our first function computes the cone corresponding to a (possibly low-dimensional) cell of the chamber complex of a hyperplane arrangement.  This may be called often for the same arguments; so we cache it."
   ]
  },
  {
   "cell_type": "code",
   "execution_count": 7,
   "metadata": {},
   "outputs": [],
   "source": [
    "%realizationcache = ();\n",
    "\n",
    "sub get_realization{\n",
    "   my ($C, # Cone\n",
    "       $index # index to face in Hasse diagram of chamber complex\n",
    "       ) = @_;\n",
    "   my $set = $C->HASSE_DIAGRAM->FACES->[$index];\n",
    "   my $R = $C->RAYS;\n",
    "   my $L = $C->LINEALITY_SPACE;\n",
    "   if(!$realizationcache{$index}){\n",
    "      $realizationcache{$index} = new Cone(INPUT_RAYS=>$R->minor($set,All),INPUT_LINEALITY=>$L);\n",
    "   }\n",
    "   return $realizationcache{$index};\n",
    "}"
   ]
  },
  {
   "cell_type": "markdown",
   "metadata": {},
   "source": [
    "The next function computes the sweep of a cone corresponding to a (possibly low-dimensional) cell of the chamber complex of a hyperplane arrangement.  Again this may be called often for the same arguments; so we cache it.\n",
    "\n",
    "Attention: the caches are global variables."
   ]
  },
  {
   "cell_type": "code",
   "execution_count": 8,
   "metadata": {},
   "outputs": [],
   "source": [
    "%conesweepcache = (); # key: Int, value: Set<Matrix>\n",
    "\n",
    "sub cone_sweep {\n",
    "   my ($C,  # Cone\n",
    "       $index, # index to face in Hasse diagram of chamber complex; this is the cone \"C\"\n",
    "       $G      # group acting on coordinate directions of C, by permutations\n",
    "       )=@_; \n",
    "   if(!defined $conesweepcache{$index}){\n",
    "      $conesweepcache{$index} = cone_sweep_inner($C, $index, $G);\n",
    "   }\n",
    "   return $conesweepcache{$index}; # Set<Matrix>\n",
    "}\n",
    "\n",
    "sub cone_sweep_inner {\n",
    "  my ($inputC,$index,$G)=@_; # group G acting on coordinate directions of cone C, by permutations\n",
    "  my $C = get_realization($inputC,$index);\n",
    "  my $F = new Matrix($C->FACETS / $C->LINEAR_SPAN / -$C->LINEAR_SPAN);\n",
    "  my $o = group::orbit<group::on_cols>($G->PERMUTATION_ACTION->GENERATORS, $F);\n",
    "  my @o = map { new Cone(INEQUALITIES=>$_) } @{$o};\n",
    "  my $o2 = new Set<Matrix>(map(new Matrix(sort @{$_->RAYS}), @o));\n",
    "  return $o2;\n",
    "}"
   ]
  },
  {
   "cell_type": "markdown",
   "metadata": {},
   "source": [
    "Since the elements in a set are sorted.  Picking the first in an orbit makes for a canonical choice. "
   ]
  },
  {
   "cell_type": "code",
   "execution_count": 9,
   "metadata": {},
   "outputs": [],
   "source": [
    "sub canonical_representative {\n",
    "   my ($C, $index, $G)=@_; # group G acting on coordinate directions of cone C, by permutations\n",
    "   my $sweep = cone_sweep($C, $index, $G);\n",
    "   return $sweep->front(); # of type Matrix\n",
    "}"
   ]
  },
  {
   "cell_type": "markdown",
   "metadata": {},
   "source": [
    "Extracts group orbits and representatives for a given dimension."
   ]
  },
  {
   "cell_type": "code",
   "execution_count": 10,
   "metadata": {},
   "outputs": [],
   "source": [
    "$map_to_rep = new Map<Int,Int>; # maps each face to its orbit rep (global)\n",
    "$top_node = $D_cone->HASSE_DIAGRAM->TOP_NODE;\n",
    "$map_to_rep->{$top_node} = $top_node;\n",
    "\n",
    "sub extract_orbit_reps {\n",
    "   my ($C, # cone\n",
    "       $k,    # dimension\n",
    "       $G     # group\n",
    "       ) = @_;\n",
    "   my @in = @{$C->HASSE_DIAGRAM->nodes_of_dim($k)};\n",
    "   my $orbits = new Set<Set>;\n",
    "   while(@in > 0){\n",
    "      my $first = pop @in;\n",
    "      $map_to_rep->{$first} = $first;\n",
    "      my $this_orbit = new Set($first);\n",
    "      my $cr = canonical_representative($C, $first, $G);\n",
    "      @in = grep{\n",
    "            my $other_cr = canonical_representative($C, $_, $G);\n",
    "            my $reps_are_distinct = $other_cr != $cr;\n",
    "            if (!$reps_are_distinct) { \n",
    "                $this_orbit += $_;\n",
    "                $map_to_rep->{$_} = $first;\n",
    "            };\n",
    "            $reps_are_distinct;\n",
    "      } @in;\n",
    "      $orbits += $this_orbit;\n",
    "   }\n",
    "   return $orbits; # of type (Set, Set<Set>)\n",
    "}"
   ]
  },
  {
   "cell_type": "markdown",
   "metadata": {},
   "source": [
    "We collect all data of faces needed."
   ]
  },
  {
   "cell_type": "code",
   "execution_count": 11,
   "metadata": {},
   "outputs": [],
   "source": [
    "sub all_orbits {\n",
    "  my ($C, # cone\n",
    "      $G     # group\n",
    "      ) = @_;\n",
    "  my $full_orbits = new Array<Set<Set>>(6);\n",
    "  for (my $k=0; $k<6; ++$k) {\n",
    "    my $orbits = extract_orbit_reps($C, $k+1, $G);\n",
    "    $full_orbits->[$k] = $orbits;\n",
    "  }\n",
    "  return $full_orbits; # of type Array<Set<Set>>\n",
    "}"
   ]
  },
  {
   "cell_type": "code",
   "execution_count": 12,
   "metadata": {
    "scrolled": true
   },
   "outputs": [],
   "source": [
    "$honey_orbits = all_orbits($D_cone, $group);"
   ]
  },
  {
   "cell_type": "markdown",
   "metadata": {},
   "source": [
    "The face vector of the stacky fan."
   ]
  },
  {
   "cell_type": "code",
   "execution_count": 13,
   "metadata": {},
   "outputs": [
    {
     "data": {
      "text/plain": [
       "7 18 25 21 8 1 "
      ]
     },
     "execution_count": 13,
     "metadata": {},
     "output_type": "execute_result"
    }
   ],
   "source": [
    "print $honey_orbits->[$_]->size(), \" \" for 0..5; "
   ]
  },
  {
   "cell_type": "markdown",
   "metadata": {
    "collapsed": true
   },
   "source": [
    "# We now barycentrically subdivide in order to compute the integral homology\n",
    "\n",
    "First thing we do is pass to the barycentric subdivision.\n"
   ]
  },
  {
   "cell_type": "code",
   "execution_count": 14,
   "metadata": {},
   "outputs": [],
   "source": [
    "$HD = $D_cone->HASSE_DIAGRAM;\n",
    "$bsd = new Set<Set>;\n",
    "$cnt = 0;\n",
    "\n",
    "for (my $i6 = entire($HD->nodes_of_dim(6)); $i6; ++$i6) {\n",
    "   for (my $i5 = entire($HD->ADJACENCY->in_adjacent_nodes($$i6)); $i5; ++$i5) {\n",
    "      for (my $i4 = entire($HD->ADJACENCY->in_adjacent_nodes($$i5)); $i4; ++$i4) {\n",
    "         for (my $i3 = entire($HD->ADJACENCY->in_adjacent_nodes($$i4)); $i3; ++$i3) {\n",
    "            for (my $i2 = entire($HD->ADJACENCY->in_adjacent_nodes($$i3)); $i2; ++$i2) {\n",
    "               for (my $i1 = entire($HD->ADJACENCY->in_adjacent_nodes($$i2)); $i1; ++$i1) {\n",
    "                  my $b_face = new Set($$i6,\n",
    "                  $map_to_rep->{$$i5},\n",
    "                  $map_to_rep->{$$i4},\n",
    "                  $map_to_rep->{$$i3},\n",
    "                  $map_to_rep->{$$i2},\n",
    "                  $map_to_rep->{$$i1},\n",
    "                  );\n",
    "                  $bsd += $b_face;\n",
    "                  ++$cnt;\n",
    "               }\n",
    "            }\n",
    "         }\n",
    "      }\n",
    "   }\n",
    "}"
   ]
  },
  {
   "cell_type": "markdown",
   "metadata": {},
   "source": [
    "We call XX the barycentric subdivision of the honeycomb locus."
   ]
  },
  {
   "cell_type": "code",
   "execution_count": 15,
   "metadata": {},
   "outputs": [
    {
     "data": {
      "text/plain": [
       "{0 4 22 52 94 104}\n",
       "115 1218 4400 7136 5376 1536 = 19781"
      ]
     },
     "execution_count": 15,
     "metadata": {},
     "output_type": "execute_result"
    }
   ],
   "source": [
    "$bsd = maximal_chains_of_lattice($HD)->minor(All,~[$HD->BOTTOM_NODE]);\n",
    "\n",
    "$XX = new topaz::SimplicialComplex(INPUT_FACES=>rows($bsd));\n",
    "\n",
    "print\n",
    "   $XX->FACETS->[5], \"\\n\",\n",
    "   $XX->F_VECTOR, \" = \", sum($XX->F_VECTOR);"
   ]
  },
  {
   "cell_type": "markdown",
   "metadata": {},
   "source": [
    "We then pass to the second barycentric subdivision which we call YY $=Y$.\n",
    "\n",
    "The numbers now start to get bigger..."
   ]
  },
  {
   "cell_type": "code",
   "execution_count": 16,
   "metadata": {},
   "outputs": [
    {
     "data": {
      "text/plain": [
       "{352 1644 6912 14048 18448 19666}\n",
       "1105920\n",
       "19781 385252 1919136 3857664 3409920 1105920 = 10697673"
      ]
     },
     "execution_count": 16,
     "metadata": {},
     "output_type": "execute_result"
    }
   ],
   "source": [
    "$YY = topaz::barycentric_subdivision($XX);\n",
    "\n",
    "print\n",
    "  $YY->FACETS->[5], \"\\n\",\n",
    "  $YY->N_FACETS, \"\\n\",\n",
    "  $YY->F_VECTOR, \" = \", sum($YY->F_VECTOR);"
   ]
  },
  {
   "cell_type": "markdown",
   "metadata": {},
   "source": [
    "We define a function mapping a set of faces to the set consisting of only representatives.\n",
    "Essentially generalising the map_to_rep function."
   ]
  },
  {
   "cell_type": "code",
   "execution_count": 17,
   "metadata": {},
   "outputs": [],
   "source": [
    "sub map_set_to_reps {\n",
    "  my ($set_of_faces_of_honey_cone) = @_; # Set\n",
    "  my @LL = map { $map_to_rep->{$_} } @{ $set_of_faces_of_honey_cone };\n",
    "  return new Set(@LL); # does not need to be a flag of honey_cone, even if the input is\n",
    "}"
   ]
  },
  {
   "cell_type": "markdown",
   "metadata": {},
   "source": [
    "We apply this function to $Y$."
   ]
  },
  {
   "cell_type": "code",
   "execution_count": 18,
   "metadata": {},
   "outputs": [],
   "source": [
    "$n_vertices_bsd2 = $YY->N_VERTICES;\n",
    "$L = new Array<Set>($n_vertices_bsd2);\n",
    "$string_to_id = new Map<String,Int>;\n",
    "\n",
    "for (my $i=0; $i<$n_vertices_bsd2; ++$i) {\n",
    "  my $this_set = new Set($YY->VERTEX_LABELS->[$i]); \n",
    "  my $mapped_set = map_set_to_reps($this_set); \n",
    "  $string_to_id->{\"$mapped_set\"} = $i unless exists( $string_to_id->{\"$this_set\"} ); # pick first as rep\n",
    "  $L->[$i] = $mapped_set; \n",
    "}"
   ]
  },
  {
   "cell_type": "markdown",
   "metadata": {},
   "source": [
    "Vertices of $Y$, i.e., faces of $X$ are mapped to sets of representatives; also the data types differ."
   ]
  },
  {
   "cell_type": "code",
   "execution_count": 19,
   "metadata": {},
   "outputs": [
    {
     "data": {
      "text/plain": [
       "{0 4 22 52 94 104} Array<String>\n",
       "{0 4 22 56 94 104} Array<Set<Int>>\n",
       "5"
      ]
     },
     "execution_count": 19,
     "metadata": {},
     "output_type": "execute_result"
    }
   ],
   "source": [
    "$k=5; # for example\n",
    "$s = map_set_to_reps( new Set($YY->VERTEX_LABELS->[$k]) );\n",
    "\n",
    "print\n",
    "  $YY->VERTEX_LABELS->[$k], \" \",\n",
    "  $YY->VERTEX_LABELS->type->full_name, \"\\n\",\n",
    "  $L->[$k], \" \",\n",
    "  $L->type->full_name, \"\\n\",\n",
    "  $string_to_id->{\"$s\"};"
   ]
  },
  {
   "cell_type": "markdown",
   "metadata": {},
   "source": [
    "Iterate over all facets of $Y$, i.e., maximal flags of $X$."
   ]
  },
  {
   "cell_type": "code",
   "execution_count": 20,
   "metadata": {},
   "outputs": [],
   "source": [
    "$n_facets_bsd2 = $YY->N_FACETS;\n",
    "$identified = new Array<Set>($n_facets_bsd2);\n",
    "\n",
    "for (my $i=0; $i<$n_facets_bsd2; ++$i) {\n",
    "  my $facet_of_projection = new Set;\n",
    "  for (my $v=entire($YY->FACETS->[$i]); $v; ++$v) { # v is a face of X, i.e., a not necessarily maximal flag of D\n",
    "    my $vertex_of_Y_as_set_of_faces_of_D = $L->[$$v];\n",
    "    my $LL_as_set = map_set_to_reps($vertex_of_Y_as_set_of_faces_of_D);\n",
    "    my $vertex_of_projection = $string_to_id->{\"$LL_as_set\"};\n",
    "    $facet_of_projection += $vertex_of_projection;\n",
    "  }\n",
    "  $identified->[$i] = $facet_of_projection;\n",
    "}"
   ]
  },
  {
   "cell_type": "markdown",
   "metadata": {},
   "source": [
    "We define $Z$ to be the moduli space of honeycomb curves. Since we have passed to the second barycentric subdivision, $Z$ can be given explicitly as a simplicial complex."
   ]
  },
  {
   "cell_type": "code",
   "execution_count": 21,
   "metadata": {},
   "outputs": [],
   "source": [
    "$ZZ = new topaz::SimplicialComplex(INPUT_FACES=>$identified);"
   ]
  },
  {
   "cell_type": "code",
   "execution_count": 22,
   "metadata": {},
   "outputs": [
    {
     "data": {
      "text/plain": [
       "14281 281790 1413750 2855280 2532720 823680 = 7921501"
      ]
     },
     "execution_count": 22,
     "metadata": {},
     "output_type": "execute_result"
    }
   ],
   "source": [
    "print $ZZ->F_VECTOR, \" = \", sum($ZZ->F_VECTOR);"
   ]
  },
  {
   "cell_type": "markdown",
   "metadata": {},
   "source": [
    "Finally, we can compute that $Z$ has trivial (reduced) homology."
   ]
  },
  {
   "cell_type": "code",
   "execution_count": 23,
   "metadata": {},
   "outputs": [
    {
     "data": {
      "text/plain": [
       "({} 0)\n",
       "({} 0)\n",
       "({} 0)\n",
       "({} 0)\n",
       "({} 0)\n",
       "({} 0)\n"
      ]
     },
     "execution_count": 23,
     "metadata": {},
     "output_type": "execute_result"
    }
   ],
   "source": [
    "print $ZZ->HOMOLOGY;"
   ]
  },
  {
   "cell_type": "markdown",
   "metadata": {},
   "source": [
    "This finishes the proof."
   ]
  },
  {
   "cell_type": "code",
   "execution_count": 24,
   "metadata": {},
   "outputs": [
    {
     "data": {
      "text/plain": [
       "total time 499 wallclock secs (498.66 usr +  1.55 sys = 500.21 CPU)"
      ]
     },
     "execution_count": 24,
     "metadata": {},
     "output_type": "execute_result"
    }
   ],
   "source": [
    "$t1 = Benchmark->new;\n",
    "$td1=timediff($t1,$t0);\n",
    "print \"total time \", timestr($td1);"
   ]
  },
  {
   "cell_type": "markdown",
   "metadata": {},
   "source": [
    "On AMD Ryzen 9 3950X running Manjaro/Linux with kernel 5.10.2-2."
   ]
  }
 ],
 "metadata": {
  "kernelspec": {
   "display_name": "polymake-4.3",
   "language": "polymake",
   "name": "polymake"
  },
  "language_info": {
   "codemirror_mode": "perl",
   "file_extension": ".pl",
   "mimetype": "text/x-polymake",
   "name": "polymake"
  }
 },
 "nbformat": 4,
 "nbformat_minor": 2
}
